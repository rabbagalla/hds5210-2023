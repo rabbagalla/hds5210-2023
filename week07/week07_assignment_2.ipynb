{
  "cells": [
    {
      "cell_type": "markdown",
      "metadata": {
        "id": "view-in-github",
        "colab_type": "text"
      },
      "source": [
        "<a href=\"https://colab.research.google.com/github/rabbagalla/hds5210-2023/blob/main/week07/week07_assignment_2.ipynb\" target=\"_parent\"><img src=\"https://colab.research.google.com/assets/colab-badge.svg\" alt=\"Open In Colab\"/></a>"
      ]
    },
    {
      "cell_type": "markdown",
      "metadata": {
        "id": "TdLke4LBnXRm"
      },
      "source": [
        "# Week 7 Assignment\n",
        "\n",
        "We've been working with different types of data structures in Python (dictionary, list, etc), how those are represented in JSON documents, and how to write code to access specific data elements. In this week's assignment, you will need to create your own JSON document to store information about yourself and the grades you've received from week 1 to week 4 and the week 6 quiz.  That is, everything you should have received a grade for.  Then you'll need to show me you know how to navigate the JSON in that file.\n",
        "\n",
        "Different from what we've done in the past, you do not have to write any functions or include any docstrings.  Just create some JSON and write some code.\n",
        "\n",
        "---"
      ]
    },
    {
      "cell_type": "markdown",
      "metadata": {
        "id": "XfojLrXenXRq"
      },
      "source": [
        "## 7.1 Create a JSON string\n",
        "\n",
        "Create a JSON string that contains your name, email, year you were born, all of the grades you've received back so far, and a comment about what you thought was most challenging on each of those assignments.  This can be any structure you choose, but make sure it uses a dictionary and a list, and has at least two levels of hierarchy.  That is, it can't just be one big long list."
      ]
    },
    {
      "cell_type": "markdown",
      "metadata": {
        "id": "6OtHQRCsnXRr"
      },
      "source": [
        "First, explain how your data structure is going to look..."
      ]
    },
    {
      "cell_type": "markdown",
      "metadata": {
        "id": "_h8uuNPjnXRr"
      },
      "source": [
        "My JSON file consists of dictionary and lists. It has a dictionary named \"me\" which has my Personal information like  name, born year, email id which is a dictionary and It has a  list named as \"assignments\" in which there are my weekly grades for assignments. I also included my highest grade among all the assignments. I also wrote the challenges that i faced while doing the assignments.So, the data structure has one dictionary and a list."
      ]
    },
    {
      "cell_type": "markdown",
      "metadata": {
        "id": "Lb_KljSenXRs"
      },
      "source": [
        "Then put the actual JSON you've created inside the multiline string below..."
      ]
    },
    {
      "cell_type": "code",
      "execution_count": 1,
      "metadata": {
        "colab": {
          "base_uri": "https://localhost:8080/"
        },
        "id": "uOG_XpBNnXRs",
        "outputId": "600f5366-eb2d-46a3-b05a-67e58280edaa"
      },
      "outputs": [
        {
          "output_type": "execute_result",
          "data": {
            "text/plain": [
              "{'me': {'first name': 'Raviteja',\n",
              "  'last name': 'Abbagalla',\n",
              "  'Born Year': '1997',\n",
              "  'email id': 'raviteja.abbagalla@slu.edu'},\n",
              " 'assignments': [{'week-1 Assignment': 'Grade-10/10',\n",
              "   'Challenges': 'Getting used to new platforms'},\n",
              "  {'week-2 Assignment': 'Grade-9.5/10',\n",
              "   'Challenges': 'Getting used to variable names in a meaningful manner'},\n",
              "  {'week-3 Assignment': 'Grade-8/10',\n",
              "   'Challenges': 'Using codes for calculation was new for me'},\n",
              "  {'week-4 Assignment': 'Grade-9/10',\n",
              "   'Challenges': 'Using returning statements and converting dictonaries to lists was a bit challenging to me'},\n",
              "  {'week-6 Quiz': 'Grade-15/20',\n",
              "   'Challenges': 'Understanding and completing those tasks in short span was a bot difficult for me'}]}"
            ]
          },
          "metadata": {},
          "execution_count": 1
        }
      ],
      "source": [
        "hds5210 = \"\"\"\n",
        "#My Week-7 Assignment\n",
        "\"\"\"\n",
        "{\n",
        "    \"me\":{\n",
        "        \"first name\":\"Raviteja\",\n",
        "        \"last name\": \"Abbagalla\",\n",
        "        \"Born Year\":\"1997\",\n",
        "        \"email id\": \"raviteja.abbagalla@slu.edu\"\n",
        "    },\n",
        "    \"assignments\":[\n",
        "    {\"week-1 Assignment\":\"Grade-10/10\",\n",
        "    \"Challenges\":\"Getting used to new platforms\"},\n",
        "    {\"week-2 Assignment\":\"Grade-9.5/10\",\n",
        "    \"Challenges\":\"Getting used to variable names in a meaningful manner\"},\n",
        "    {\"week-3 Assignment\":\"Grade-8/10\",\n",
        "    \"Challenges\":\"Using codes for calculation was new for me\"},\n",
        "    {\"week-4 Assignment\":\"Grade-9/10\",\n",
        "    \"Challenges\":\"Using returning statements and converting dictonaries to lists was a bit challenging to me\"},\n",
        "    {\"week-6 Quiz\":\"Grade-15/20\",\n",
        "    \"Challenges\":\"Understanding and completing those tasks in short span was a bot difficult for me\"}\n",
        "    ]\n",
        "}\n"
      ]
    },
    {
      "cell_type": "markdown",
      "metadata": {
        "id": "n4Y9tTBonXRs"
      },
      "source": [
        "## 7.2 Do something with your JSON\n",
        "\n",
        "Now use Python code to do something with the Json above.  Turn it into English text, but make sure that you use at least one loop to access some dict or list content of your JSON.  Below, I've provided some basic code to read in the string above as JSON and return a Python object.  Your job is to work with that data structure and print out the important information like your name, email, and how you did on each assignment."
      ]
    },
    {
      "cell_type": "code",
      "execution_count": 2,
      "metadata": {
        "colab": {
          "base_uri": "https://localhost:8080/"
        },
        "id": "_U_6sxnwnXRt",
        "outputId": "dae0ad62-54e0-4fda-e4e4-9dd134b4de5a"
      },
      "outputs": [
        {
          "output_type": "stream",
          "name": "stdout",
          "text": [
            "Hi, my name is Raviteja Abbagalla and my email is raviteja.abbagalla@slu.edu.\n",
            "\n",
            "Here are my grades and Challenges I faced while completing the assignments:\n",
            "\n",
            "week-1 Assignment: Grade-10/10\n",
            "Challenges: Getting used to new platforms was a bit difficult for me\n",
            "week-2 Assignment: Grade-9.5/10\n",
            "Challenges: Using coding to solve mathematical problems was a bit challenging but once i understood the logics it is fun to do\n",
            "week-3 Assignment: Grade-8/10\n",
            "Challenges: Solving real life problems using programming was a challenging initially\n",
            "week-4 Assignment: Grade-9/10\n",
            "Challenges: Using returning statements and converting dictionaries to lists was a bit challenging to me\n",
            "week-6 Quiz: Grade-15/20\n",
            "Challenges: Understanding and completing those tasks in short span was a bit difficult for me\n",
            "\n",
            "The highest grade is: 15.0\n"
          ]
        }
      ],
      "source": [
        "import json\n",
        "\n",
        "hds5210 = \"\"\"\n",
        "{\n",
        "    \"me\":{\n",
        "        \"first name\":\"Raviteja\",\n",
        "        \"last name\": \"Abbagalla\",\n",
        "        \"Born Year\":\"1997\",\n",
        "        \"email id\": \"raviteja.abbagalla@slu.edu\"\n",
        "    },\n",
        "    \"assignments\":[\n",
        "        {\"week-1 Assignment\":\"Grade-10/10\",\n",
        "        \"Challenges\":\"Getting used to new platforms was a bit difficult for me\"},\n",
        "        {\"week-2 Assignment\":\"Grade-9.5/10\",\n",
        "        \"Challenges\":\"Using coding to solve mathematical problems was a bit challenging but once i understood the logics it is fun to do\"},\n",
        "        {\"week-3 Assignment\":\"Grade-8/10\",\n",
        "        \"Challenges\":\"Solving real life problems using programming was a challenging initially\"},\n",
        "        {\"week-4 Assignment\":\"Grade-9/10\",\n",
        "        \"Challenges\":\"Using returning statements and converting dictionaries to lists was a bit challenging to me\"},\n",
        "        {\"week-6 Quiz\":\"Grade-15/20\",\n",
        "        \"Challenges\":\"Understanding and completing those tasks in short span was a bit difficult for me\"}\n",
        "    ]\n",
        "}\n",
        "\"\"\"\n",
        "\n",
        "data = json.loads(hds5210)\n",
        "\n",
        "first_name = data['me']['first name']\n",
        "last_name = data['me']['last name']\n",
        "email = data['me']['email id']\n",
        "assignments = data['assignments']\n",
        "\n",
        "max_grade = 0\n",
        "\n",
        "output = f\"Hi, my name is {first_name} {last_name} and my email is {email}.\\n\\nHere are my grades and Challenges I faced while completing the assignments:\\n\\n\"\n",
        "\n",
        "for assignment in assignments:\n",
        "    for key, value in assignment.items():\n",
        "        output += f\"{key}: {value}\\n\"\n",
        "        grade_info = value.split('-')\n",
        "        if len(grade_info) == 2:\n",
        "            grade = float(grade_info[1].split('/')[0])\n",
        "            max_grade = max(max_grade, grade)\n",
        "\n",
        "output += f\"\\nThe highest grade is: {max_grade}\"\n",
        "\n",
        "print(output)\n"
      ]
    },
    {
      "cell_type": "markdown",
      "metadata": {
        "id": "B4W3dLyrnXRt"
      },
      "source": [
        "## 7.3 Reflect\n",
        "\n",
        "Write a paragraph on any reflections you have. Was this hard? Easy?  What parts were most challenging or easiest? What did you like or dislike about the assignment?  Share whatever important thoughts you have abou this assignment."
      ]
    },
    {
      "cell_type": "markdown",
      "metadata": {
        "id": "EVXIBAbunXRt"
      },
      "source": [
        "* Completing this assignment was an enjoyable experience, and Professor Paul's provision of an example made it even more accessible. The most engaging aspect was crafting my own problem and devising a solution. It proved to be an entertaining approach to learning programming at our own rhythm. The example provided by the professor made it straightforward to tackle the assignment. Although I initially felt a tad apprehensive, as I delved into the task, I gained a better grasp of it."
      ]
    },
    {
      "cell_type": "markdown",
      "metadata": {
        "id": "uZDdJZwwnXRt"
      },
      "source": [
        "---\n",
        "\n",
        "# Example\n",
        "\n",
        "Below is an example of something similar, but this uses information my and my friend's kids instead of grades."
      ]
    },
    {
      "cell_type": "code",
      "execution_count": 3,
      "metadata": {
        "colab": {
          "base_uri": "https://localhost:8080/"
        },
        "id": "6UkRG6GmnXRt",
        "outputId": "b840fcb5-e5b2-45a8-cbdf-beac576c6236"
      },
      "outputs": [
        {
          "output_type": "stream",
          "name": "stdout",
          "text": [
            "Hi, my name is Paul. I've got 3 kids. Their names are Ellie, Ada, Teddy.\n",
            "My friend, Anny has 1 kids. That's fewer than me. Their names are 1\n"
          ]
        }
      ],
      "source": [
        "hds5210 = \"\"\"\n",
        "{\n",
        "    \"me\": {\n",
        "        \"name\": \"Paul\",\n",
        "        \"kids\": [\"Ellie\", \"Ada\", \"Teddy\"]\n",
        "    },\n",
        "    \"friend\": {\n",
        "        \"name\": \"Anny\",\n",
        "        \"kids\": [\"Abby\"]\n",
        "    }\n",
        "}\n",
        "\"\"\"\n",
        "\n",
        "import json\n",
        "\n",
        "info = json.loads(hds5210)\n",
        "\n",
        "me = info[\"me\"][\"name\"]\n",
        "my_kids_count = len(info[\"me\"][\"kids\"])\n",
        "kids_list = \", \".join(info[\"me\"][\"kids\"])\n",
        "friend = info[\"friend\"][\"name\"]\n",
        "friends_kid_count = len(info[\"friend\"][\"kids\"])\n",
        "friend_kids = \", \".join(info[\"friend\"][\"kids\"])\n",
        "compare = \"more\" if friends_kid_count > my_kids_count else \"fewer\"\n",
        "\n",
        "print(f\"Hi, my name is {me}. I've got {my_kids_count} kids. Their names are {kids_list}.\")\n",
        "print(f\"My friend, {friend} has {friends_kid_count} kids. That's {compare} than me. Their names are {friends_kid_count}\")"
      ]
    }
  ],
  "metadata": {
    "kernelspec": {
      "display_name": "Python 3",
      "language": "python",
      "name": "python3"
    },
    "language_info": {
      "codemirror_mode": {
        "name": "ipython",
        "version": 3
      },
      "file_extension": ".py",
      "mimetype": "text/x-python",
      "name": "python",
      "nbconvert_exporter": "python",
      "pygments_lexer": "ipython3",
      "version": "3.9.16"
    },
    "colab": {
      "provenance": [],
      "include_colab_link": true
    }
  },
  "nbformat": 4,
  "nbformat_minor": 0
}