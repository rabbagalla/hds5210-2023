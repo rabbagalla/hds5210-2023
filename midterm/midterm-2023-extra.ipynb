{
  "cells": [
    {
      "cell_type": "markdown",
      "metadata": {
        "id": "b1EqDiuN_Bhj"
      },
      "source": [
        "# Extra Credit\n",
        "\n",
        "For upto an additional 15 extra credit points on the midterm exam, you can write another function that applies additional criteria on top of what the midterm already did.  To earn the addition points, you need write a function called `summarize_results(patients)` to take the output of your  `process_people()` function to apply a new business rule and summarize the results.\n",
        "\n",
        "* Your function should take the dictionary created by `process_people()` as it's one input parameter: `patients`.\n",
        "* If the PRIEST probably is less than 10%, change the `hospital` and `address` to both have a value of `'Home'` indicating patients with a lower probability of an adverse outcome can just go home rather than be admitted to a hospital.\n",
        "* Summarize those results and count how many patients are now being sent to each location.  Your result should have the following format:\n",
        "```\n",
        "{\n",
        "    \"Home\": 123,\n",
        "    \"Hospital A\": 10,\n",
        "    \"Hospital B\": 20,\n",
        "    \"Hospital C\": 30\n",
        "}\n",
        "```\n",
        "\n",
        "As always, your function needs good docstrings; but does not require any doctests in this case."
      ]
    },
    {
      "cell_type": "code",
      "execution_count": 3,
      "metadata": {
        "id": "4fcUJOLs_Bhm",
        "outputId": "dafbf5f1-de23-4605-a5ef-9a3bdb4919f5",
        "colab": {
          "base_uri": "https://localhost:8080/"
        }
      },
      "outputs": [
        {
          "output_type": "stream",
          "name": "stdout",
          "text": [
            "{'Home': 2, 'Hospital B': 1, 'Hospital C': 1}\n"
          ]
        }
      ],
      "source": [
        "def generate_summary(patient_records):\n",
        "    \"\"\"\n",
        "    Compile a summary of the patient's results using the PRIEST probability.\n",
        "    Args:\n",
        "        patient_records (dict): a dictionary with information on patients.\n",
        "\n",
        "    Returns:\n",
        "        dict:a list of patient outcomes, broken down by location.\n",
        "    \"\"\"\n",
        "    summary = {\"Home\": 0}\n",
        "\n",
        "    for record in patient_records.values():\n",
        "        if len(record) < 12:\n",
        "            continue  # Skip incomplete patient records\n",
        "\n",
        "        priest_probability = record[10]\n",
        "        location = record[11]\n",
        "\n",
        "        if priest_probability < 0.10:\n",
        "            summary[\"Home\"] += 1\n",
        "        elif location:\n",
        "            summary[location] = summary.get(location, 0) + 1\n",
        "\n",
        "    return summary\n",
        "\n",
        "patient_records = {\n",
        "    \"Patient19\": ['Female', 45, 15, 0.94, 78, 112, 37.2, 'Alert', 'Air', 'Limited self-care', 0.08, 'Hospital A', '222 Oak St'],\n",
        "    \"Patient20\": ['Male', 60, 20, 0.92, 95, 130, 36.5, 'Awake', 'Air', 'Limited self-care', 0.12, 'Hospital B', '333 Elm St'],\n",
        "    \"Patient21\": ['Female', 70, 28, 0.88, 85, 125, 37.1, 'Calert', 'Supplemental oxygen', 'Bed/chair bound', 0.07, 'Hospital A', '222 Oak St'],\n",
        "    \"Patient22\": ['Male', 58, 22, 0.91, 102, 135, 36.7, 'Alert', 'Supplemental oxygen', 'Unrestricted normal activity', 0.14, 'Hospital C', '444 Pine St'],\n",
        "}\n",
        "\n",
        "result = generate_summary(patient_records)\n",
        "print(result)"
      ]
    },
    {
      "cell_type": "code",
      "execution_count": null,
      "metadata": {
        "id": "BFyod6lh_Bhm"
      },
      "outputs": [],
      "source": []
    }
  ],
  "metadata": {
    "kernelspec": {
      "display_name": ".venv",
      "language": "python",
      "name": "python3"
    },
    "language_info": {
      "codemirror_mode": {
        "name": "ipython",
        "version": 3
      },
      "file_extension": ".py",
      "mimetype": "text/x-python",
      "name": "python",
      "nbconvert_exporter": "python",
      "pygments_lexer": "ipython3",
      "version": "3.9.16"
    },
    "colab": {
      "provenance": []
    }
  },
  "nbformat": 4,
  "nbformat_minor": 0
}