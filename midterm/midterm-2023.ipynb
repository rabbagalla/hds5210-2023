{
  "cells": [
    {
      "cell_type": "markdown",
      "metadata": {
        "id": "ZZTC43bKrByt"
      },
      "source": [
        "# HDS5210-2022 Midterm\n",
        "\n",
        "In the midterm, you're going to use all the programming and data management skills you've developed so far to build a risk calculator that pretends to be integrated with a clinical registry.  You'll compute the PRIEST COVID-19 Clinical Severity Score for a series of patients and, based on their risk of an adverse outcome, query a REST web service to find a hospital to transfer them to. The end result of your work will be a list of instructions on where each patient should be discharged given their risk and various characteristics of the patient.\n",
        "\n",
        "Each step in the midterm will build up to form your complete solution.\n",
        "\n",
        "**Make sure you write good docstrings and doctests along the way!!**\n",
        "\n",
        "**The midterm is due at 11:59 PM CST on Monday, October 23rd.**\n",
        "\n",
        "---"
      ]
    },
    {
      "cell_type": "markdown",
      "metadata": {
        "id": "x54GFr8jrByx"
      },
      "source": [
        "## Step 1: Calculate PRIEST Clinical Severity Score\n",
        "\n",
        "This scoring algorithm can be found [here on the MDCalc website](https://www.mdcalc.com/priest-covid-19-clinical-severity-score#evidence).  \n",
        "\n",
        "1. You will need to write a function called **priest()** with the following input parameters.  \n",
        " * Sex (Gender assigned at birth)\n",
        " * Age in years\n",
        " * Respiratory rate in breaths per minute\n",
        " * Oxygen saturation as a percent between 0 and 1\n",
        " * Heart rate in beats per minute\n",
        " * Systolic BP in mmHg\n",
        " * Temperature in degrees C\n",
        " * Alertness as a string description\n",
        " * Inspired Oxygen as as string description\n",
        " * Performance Status as a string description\n",
        "2. The function will need to follow the algorithm provided on the MDCalc website to compute a risk percentage that should be returned as a numeric value between 0 and 1.\n",
        "3. Be sure to use docstring documentation and at least three built-in docstring test cases.\n",
        "4. Assume that the input values that are strings could be any combination of upper or lower case. For example: 'male', 'Male', 'MALE', 'MalE' should all be interpretted by your code as male.\n",
        "5. If any of the inputs are invalid (for example a sex value that is not recognizable as male or female) your code should return None.\n",
        "\n",
        "NOTES:\n",
        "1. In the final step there is a table that translates from **PRIEST Score** to **30-day probability of an outcome** but the last two probabilities are shown as ranges (59-88% and >99%).  Our code needs to output a single number, however. For our code, use the following rule:\n",
        " * If PRIEST score is between 17 and 25, the probability you return should be 0.59\n",
        " * If PRIEST score is greater than or equal to 26, the probability you return should be 0.99\n"
      ]
    },
    {
      "cell_type": "code",
      "execution_count": 21,
      "metadata": {
        "id": "4Lfh3rDhrByy"
      },
      "outputs": [],
      "source": [
        "def priest(sex, age, respRate, O2Saturation, heartRate, sysBP, temp, alert, inspO2, perfStatus):\n",
        "\n",
        "  \"\"\"(str, int, int, float, int, int, float, str, str, str) -> float\n",
        "  This function determaines the risk score based on the patient parameters like Sex, Age, Respiratory rate in breaths per minute,\n",
        "  Oxygen saturation as a percent between 0 and 1, Heart rate in beats per minute, Systolic BP in mmHg, Temperature in degrees C,\n",
        "  Alertness, Inspired Oxygen, Performance Status.\n",
        "  Risk percentaile is determined based on the scoring algorithm, which can be found at https://www.mdcalc.com/calc/10369/priest-covid-19-clinical-severity-score#evidence.\n",
        "  After risk percentaile is determined it returns a single numeric value between 0 and 1, but for risk score between 17 and 25, the function returns 0.59 and\n",
        "  If risk score is greater than or equal to 26, the function returns 0.99 as the risk percentile.\n",
        "  If any of the inputs are invalid, it will return None, indicating invalid parmeters.\n",
        "\n",
        "  >>> priest('Male', 55, 23, 0.94, 92, 101, 37.0, 'alert', 'air', 'unrestricted normal activity')\n",
        "  0.22\n",
        "\n",
        "  >>> priest('MaLe', 84, 23, 0.93, 120, 109, 38.4, 'confused or not alert', 'supplemental oxygen', 'limited activity, can self-care')\n",
        "  0.59\n",
        "\n",
        "  >>> priest('female', 66, 23, 0.92, 96, 110, 36.5, 'alert', 'air', 'unrestricted normal activity')\n",
        "  0.26\n",
        "  \"\"\"\n",
        "  risk = 0\n",
        "\n",
        "  if sex.upper() == 'MALE':\n",
        "    risk += 1\n",
        "  elif sex.upper() == 'FEMALE':\n",
        "    risk += 0\n",
        "  else:\n",
        "    return None\n",
        "\n",
        "\n",
        "  if age>=16 and age<= 49:\n",
        "    risk += 0\n",
        "  elif age>=50 and age <= 65:\n",
        "    risk += 2\n",
        "  elif age>=66 and age<= 80:\n",
        "    risk += 3\n",
        "  elif age> 80:\n",
        "    risk += 4\n",
        "  else:\n",
        "    return None\n",
        "\n",
        "\n",
        "  if respRate<9:\n",
        "    risk += 3\n",
        "  elif respRate>=9 and respRate<=11:\n",
        "    risk += 1\n",
        "  elif respRate>=12 and respRate<=20:\n",
        "    risk += 0\n",
        "  elif respRate>=21 and respRate<=24:\n",
        "    risk += 2\n",
        "  else:\n",
        "    risk += 3\n",
        "\n",
        "\n",
        "  if O2Saturation> 95/100:\n",
        "    risk += 0\n",
        "  elif O2Saturation>= 94/100 and O2Saturation<= 95/100:\n",
        "    risk += 1\n",
        "  elif O2Saturation>= 92/100 and O2Saturation<= 93/100:\n",
        "    risk += 2\n",
        "  else:\n",
        "    risk += 3\n",
        "\n",
        "\n",
        "  if heartRate < 41:\n",
        "    risk += 3\n",
        "  elif heartRate>= 41 and heartRate<=50:\n",
        "    risk += 1\n",
        "  elif heartRate>=51 and heartRate<= 90:\n",
        "    risk += 0\n",
        "  elif heartRate>=91 and heartRate<=110:\n",
        "    risk += 1\n",
        "  elif heartRate>=111 and heartRate<=130:\n",
        "    risk += 2\n",
        "  else:\n",
        "    risk += 3\n",
        "\n",
        "\n",
        "  if sysBP<91:\n",
        "    risk += 3\n",
        "  elif sysBP>=91 and sysBP<= 100:\n",
        "    risk += 2\n",
        "  elif sysBP>=101 and sysBP<= 110:\n",
        "    risk += 1\n",
        "  elif sysBP>=111 and sysBP<=219:\n",
        "    risk += 0\n",
        "  else:\n",
        "    risk += 3\n",
        "\n",
        "\n",
        "  if temp < 35.1:\n",
        "    risk += 3\n",
        "  elif temp >= 35.1 and temp<=36.0:\n",
        "    risk += 1\n",
        "  elif temp>= 36.1 and temp<=38.0:\n",
        "    risk += 0\n",
        "  elif temp>=38.1 and temp<=39.0:\n",
        "    risk += 1\n",
        "  else:\n",
        "    risk += 2\n",
        "\n",
        "\n",
        "  if alert.lower() == \"alert\":\n",
        "    risk += 0\n",
        "  elif alert.lower() == \"confused or not alert\":\n",
        "    risk += 3\n",
        "  else:\n",
        "    return None\n",
        "\n",
        "\n",
        "  if inspO2.lower() == \"air\":\n",
        "    risk += 0\n",
        "  elif inspO2.lower() == \"supplemental oxygen\":\n",
        "    risk += 2\n",
        "  else:\n",
        "    return None\n",
        "\n",
        "\n",
        "  if perfStatus.lower() == \"unrestricted normal activity\":\n",
        "    risk += 0\n",
        "  elif perfStatus.lower() == \"limited strenuous activity, can do light activity\":\n",
        "    risk += 1\n",
        "  elif perfStatus.lower() == \"limited activity, can self-care\":\n",
        "    risk += 2\n",
        "  elif perfStatus.lower() == \"limited self-care\":\n",
        "    risk += 3\n",
        "  elif perfStatus.lower() == \"bed/chair bound, no self-care\":\n",
        "    risk += 4\n",
        "  else:\n",
        "    return None\n",
        "\n",
        "\n",
        "  if risk == 0 or risk == 1:\n",
        "    return 0.01\n",
        "  elif risk == 2 or risk == 3:\n",
        "    return 0.02\n",
        "  elif risk == 4:\n",
        "    return 0.03\n",
        "  elif risk == 5:\n",
        "    return 0.09\n",
        "  elif risk == 6:\n",
        "    return 0.15\n",
        "  elif risk == 7:\n",
        "    return 0.18\n",
        "  elif risk == 8:\n",
        "    return 0.22\n",
        "  elif risk == 9:\n",
        "    return 0.26\n",
        "  elif risk == 10:\n",
        "    return 0.29\n",
        "  elif risk == 11:\n",
        "    return 0.34\n",
        "  elif risk == 12:\n",
        "    return 0.38\n",
        "  elif risk == 13:\n",
        "    return 0.46\n",
        "  elif risk == 14:\n",
        "    return 0.47\n",
        "  elif risk == 15:\n",
        "    return 0.49\n",
        "  elif risk == 16:\n",
        "    return 0.55\n",
        "  elif risk>= 17 and risk <= 25:\n",
        "    return 0.59\n",
        "  else :\n",
        "   return 0.99"
      ]
    },
    {
      "cell_type": "code",
      "execution_count": 22,
      "metadata": {
        "id": "mMC-b2ierByy",
        "outputId": "3de53fba-82bb-490d-9a75-bc55eb1e8fc8",
        "colab": {
          "base_uri": "https://localhost:8080/"
        }
      },
      "outputs": [
        {
          "output_type": "stream",
          "name": "stdout",
          "text": [
            "Finding tests in NoName\n",
            "Trying:\n",
            "    priest('Male', 55, 23, 0.94, 92, 101, 37.0, 'alert', 'air', 'unrestricted normal activity')\n",
            "Expecting:\n",
            "    0.22\n",
            "ok\n",
            "Trying:\n",
            "    priest('MaLe', 84, 23, 0.93, 120, 109, 38.4, 'confused or not alert', 'supplemental oxygen', 'limited activity, can self-care')\n",
            "Expecting:\n",
            "    0.59\n",
            "ok\n",
            "Trying:\n",
            "    priest('female', 66, 23, 0.92, 96, 110, 36.5, 'alert', 'air', 'unrestricted normal activity')\n",
            "Expecting:\n",
            "    0.26\n",
            "ok\n"
          ]
        }
      ],
      "source": [
        "import doctest\n",
        "doctest.run_docstring_examples(priest, globals(),verbose=True)"
      ]
    },
    {
      "cell_type": "markdown",
      "metadata": {
        "id": "qW2AmerorBy0"
      },
      "source": [
        "## Part 2: Find a hospital\n",
        "\n",
        "The next thing we have to do is figure out where to send this particular patient.  The guidelines on where to send a patient are based on their age (pediatric, adult, geriatric), sex, and risk percentage.  Luckily, you don't have to implement these rules. I already have. All you have to do is use a REST web service that I've created for you.\n",
        "\n",
        "You'll want to use Python to make a call to my REST web service similar to the example URL below. The first part of the URL will be the same for everyone and every request that you make. What you will need to modify for each of your requests is the information after the question mark.\n",
        "\n",
        "```\n",
        "https://oumdj6oci2.execute-api.us-east-1.amazonaws.com/prd/?age=40&sex=male&risk_pct=0.1\n",
        "```\n",
        "\n",
        "The example above asks my web service where a 40-year old male with a risk of 10% should go.  What the web service will return back is a JSON string containing the information you need.  That JSON will look like this:\n",
        "\n",
        "```json\n",
        "{\n",
        "  \"age\": \"40\",\n",
        "  \"sex\": \"male\",\n",
        "  \"risk\": \"0.1\",\n",
        "  \"hospital\": \"Southwest Hospital and Medical Center\"\n",
        "}\n",
        "```\n",
        "\n",
        "My function is not smart enough to understand `'MALE'` is the same as `'male'`.  You have to send it exactly `'male'` or `'female'`\n",
        "\n",
        "1. Your job is to write a function called **find_hospital()** that takes age, sex, and risk as parameters.\n",
        "2. Your function should call this REST web service using the `requests` module\n",
        "3. Then your function will need to interpret the JSON it gets and return just the name of the hospital\n",
        "4. If anything fails, return None\n",
        "5. Include a good docstring with at least three test cases.\n"
      ]
    },
    {
      "cell_type": "code",
      "execution_count": 25,
      "metadata": {
        "id": "YEnX1BWgrBy0"
      },
      "outputs": [],
      "source": [
        "import requests as req\n",
        "def find_hospital(age, sex, risk):\n",
        "  \"\"\"(int, str, float) -> str\n",
        "  The hospital name is returned after this function determines the patient's age (pediatric, adult, or geriatric), sex, and risk % characteristics.\n",
        "  To obtain the json data, this method will use the requests module to contact the REST web service.\n",
        "  then the function interprets the.json data and only returns the hospital's name.\n",
        "\n",
        "  It will return None, denoting invalid parameters, an invalid link, or a function failure, if any of the inputs are invalid.\n",
        "\n",
        "  >>> find_hospital(59,\"female\",0.77)\n",
        "  'Emory Dunwoody Medical Center'\n",
        "\n",
        "  >>> find_hospital(45,\"female\",0.09)\n",
        "  'Select Specialty Hospital - Northeast Atlanta'\n",
        "\n",
        "  >>> find_hospital(50,\"female\",\"true\")\n",
        "\n",
        "  >>> find_hospital(65,\"male\",\"true\")\n",
        "\n",
        "  \"\"\"\n",
        "  source = \"https://oumdj6oci2.execute-api.us-east-1.amazonaws.com/prd/?age={}&sex={}&risk_pct={}\".format(age,sex.lower(),risk)\n",
        "  Datasource = req.get(source)\n",
        "  if Datasource.status_code == 200:\n",
        "    hospitalinfo = Datasource.json()\n",
        "    if isinstance(hospitalinfo,dict):\n",
        "      return hospitalinfo[\"hospital\"]\n",
        "  return None"
      ]
    },
    {
      "cell_type": "code",
      "execution_count": 26,
      "metadata": {
        "id": "fbWEeXtVrBy0",
        "outputId": "5b94458e-3660-4cdb-ebc3-ec92b3d0b355",
        "colab": {
          "base_uri": "https://localhost:8080/"
        }
      },
      "outputs": [
        {
          "output_type": "stream",
          "name": "stdout",
          "text": [
            "Finding tests in NoName\n",
            "Trying:\n",
            "    find_hospital(59,\"female\",0.77)\n",
            "Expecting:\n",
            "    'Emory Dunwoody Medical Center'\n",
            "ok\n",
            "Trying:\n",
            "    find_hospital(45,\"female\",0.09)\n",
            "Expecting:\n",
            "    'Select Specialty Hospital - Northeast Atlanta'\n",
            "ok\n",
            "Trying:\n",
            "    find_hospital(50,\"female\",\"true\")\n",
            "Expecting nothing\n",
            "ok\n",
            "Trying:\n",
            "    find_hospital(65,\"male\",\"true\")\n",
            "Expecting nothing\n",
            "ok\n"
          ]
        }
      ],
      "source": [
        "import doctest\n",
        "doctest.run_docstring_examples(find_hospital, globals(),verbose=True)"
      ]
    },
    {
      "cell_type": "markdown",
      "metadata": {
        "id": "1qedJD3arBy1"
      },
      "source": [
        "## Part 3: Get the address for that hospital from a JSON file\n",
        "\n",
        "Great! Now we have code to tell us which hospital to send someone to... but we don't know where that hospital is. The next function we need to create is one that looks up the address of that hospital.  All of these hospitals are in Atlanta, Georgia.  We're going to use the list from this webpage to lookup the address for that hospital, based on its name.  https://www.officialusa.com/stateguides/health/hospitals/georgia.html\n",
        "\n",
        "Because we skipped the section about Beautiful Soup and working with HTML, I've converted this information into a JSON document for you.  It's available for you here.  Your code should retrieve this file using the `requests` module.\n",
        "\n",
        "`https://drive.google.com/uc?export=download&id=1fIFD-NkcdiMu941N4GjyMDWxiKsFJBw-`\n",
        "\n",
        "1. You need to create a function called **get_address()** that takes hospital name as a parameter and searches the data from this JSON file for the hospital you want to find.\n",
        "2. Your code will have to load the JSON and return the correct hospital based on name.\n",
        "3. If the hospital name isn't found, the function should return None.\n",
        "4. Be sure to use good docstring documentation and includes at least 3 test cases."
      ]
    },
    {
      "cell_type": "code",
      "execution_count": 27,
      "metadata": {
        "id": "onz2lEI0rBy1"
      },
      "outputs": [],
      "source": [
        "import requests as req\n",
        "def get_address(hospital_name):\n",
        "  \"\"\"(str) -> str\n",
        "  This function will looks up for the address of that particular hospital which is passed as a parameter.\n",
        "  This function will retrieve the file using the requests module from the link : https://drive.google.com/uc?export=download&id=1fIFD-NkcdiMu941N4GjyMDWxiKsFJBw-\n",
        "  The link contains a .json file which as hospital data in it. so, the function will load the .json file data and searches for the hospital address\n",
        "  and returns hospital address.\n",
        "  If the hospital name isn't found, it will return None.\n",
        "\n",
        "  >>> get_address(\"COOK MEDICAL CENTER\")\n",
        "  '706 NORTH PARRISH AVENUE'\n",
        "\n",
        "  >>> get_address(\"BACON COUNTY HOSPITAL\")\n",
        "  '302 SOUTH WAYNE STREET'\n",
        "\n",
        "  >>> get_address(\"ENISE Hospital\")\n",
        "\n",
        "  >>> get_address(\"PHOEBE SUMTER MEDICAL CENTER\")\n",
        "  '126 HIGHWAY 280 W'\n",
        "\n",
        "  \"\"\"\n",
        "  hospital = hospital_name.upper()\n",
        "  Datasource = req.get(\"https://hds5210-data.s3.amazonaws.com/ga_hospitals.json\")\n",
        "  if Datasource.status_code == 200:\n",
        "    hospitalinfo = Datasource.json()\n",
        "    hospitals = list(hospitalinfo.keys())\n",
        "    if hospital in hospitals:\n",
        "      return hospitalinfo[hospital]['ADDRESS']\n",
        "    return None"
      ]
    },
    {
      "cell_type": "markdown",
      "metadata": {
        "id": "ysD1WqHNrBy1"
      },
      "source": [
        "## Part 4: Run the risk calculator on a population\n",
        "\n",
        "At the link below, there is a file called `people.psv`.  It is a pipe-delimited (`|`) file with columns that match the inputs for the PRIEST calculation above.  Your code should use the `requests` module to retrieve the file from this URL.\n",
        "\n",
        "`https://drive.google.com/uc?export=download&id=1fLxJN9YGUqmqExrilxSS8furwUER5HHh`\n",
        "\n",
        "\n",
        "In addition, the file has a patient identifier in the first column.\n",
        "\n",
        "1. Write a function called **process_people()** that takes the file location above as its only parameter. Your Python program should use your code above to process all of these rows, determine the hospital and address, and return a list whose items are a dictionary like this: `{ patient_number: [sex, age, breath, o2sat, heart, systolic, temp, alertness, inspired, status, hospital, address]}`.  Look at the file in Part 5 for what the output looks like.\n",
        "2. Be sure to use good docstrings, but you don't need any tests in your doc strings.  I've provided those for you withe file in Part 5.\n",
        "\n",
        "\n",
        "**NOTE** that when running your code for all the 100 records in the `people.psv` file, it may take a few minutes to complete.  You're making multiple calls to the internet for each record, so that can take a little while.\n"
      ]
    },
    {
      "cell_type": "code",
      "execution_count": 28,
      "metadata": {
        "id": "jknD-zcVrBy2"
      },
      "outputs": [],
      "source": [
        "import requests as req\n",
        "import csv\n",
        "def process_people(source):\n",
        "  \"\"\"(str) -> dict\n",
        "  This function returns the entire patient details in the dictonary format, by using the file location as its only parameter.\n",
        "  The file location has a people.psv file. It is a pipe-delimited (|) file with columns that match the inputs for the PRIEST calculation above.\n",
        "  The function will use all the previous functions above to process all of these rows, and determine the risk, hospital name and address,\n",
        "  and return a list whose items are a dictionary like this: { patient_number: [sex, age, breath, o2sat, heart, systolic, temp, alertness, inspired, status, risk, hospitalName, hospitalAddress]}.\n",
        "  \"\"\"\n",
        "  Datasource = req.get(source)\n",
        "\n",
        "  if Datasource.status_code == 200:\n",
        "    csv = [i.split('|') for i in Datasource.text.split('\\n')]\n",
        "    if(len(csv[-1][0])==0):\n",
        "      csv.pop(-1)\n",
        "    csv.pop(0)\n",
        "    patientsDict = {}\n",
        "    for row in csv:\n",
        "      key = row.pop(0)\n",
        "      patientrecord = [row[0],int(row[1]),float(row[2]),float(row[3]),float(row[4]),float(row[5]),float(row[6]),row[7],row[8],row[9]]\n",
        "      patientrecord.append(priest(patientrecord[0],patientrecord[1],patientrecord[2],patientrecord[3],patientrecord[4],patientrecord[5],patientrecord[6],patientrecord[7],patientrecord[8],patientrecord[9]))\n",
        "      patientrecord.append(find_hospital(patientrecord[1],patientrecord[0],patientrecord[-1]))\n",
        "      patientrecord.append(get_address(patientrecord[-1].upper()))\n",
        "      patientsDict[key]= patientrecord\n",
        "\n",
        "    return patientsDict\n",
        "  return None"
      ]
    },
    {
      "cell_type": "markdown",
      "metadata": {
        "id": "GuuM_7bHrBy2"
      },
      "source": [
        "## Part 5: Checking your final results\n",
        "\n",
        "The final step is to check your results.  You should be able to compare your results to the output in `people_results.json` at the link below.  Write some code to check your results.  This does not need to be a function.\n",
        "\n",
        "`https://drive.google.com/uc?export=download&id=1gx1SSC20mO5XL6uYD0mdcM_cL91fcIW5`\n"
      ]
    },
    {
      "cell_type": "code",
      "execution_count": 29,
      "metadata": {
        "id": "Zo0X5NbIrBy2",
        "outputId": "9fc3537f-a34e-4798-e653-f5beeb206b78",
        "colab": {
          "base_uri": "https://localhost:8080/"
        }
      },
      "outputs": [
        {
          "output_type": "execute_result",
          "data": {
            "text/plain": [
              "True"
            ]
          },
          "metadata": {},
          "execution_count": 29
        }
      ],
      "source": [
        "import requests as req\n",
        "\n",
        "resultData = req.get('https://hds5210-data.s3.amazonaws.com/people_results.json')\n",
        "\n",
        "obtainedData = process_people('https://hds5210-data.s3.amazonaws.com/people.psv')\n",
        "\n",
        "resultData.json() == obtainedData"
      ]
    },
    {
      "cell_type": "markdown",
      "metadata": {
        "id": "1LTlaJEprBy2"
      },
      "source": [
        "---\n",
        "\n",
        "## Check your work above\n",
        "\n",
        "If you didn't get them all correct, take a few minutes to think through those that aren't correct.\n",
        "\n",
        "\n",
        "## Submitting Your Work\n",
        "\n",
        "Submit your work as usual into a folder named `midterm`"
      ]
    },
    {
      "cell_type": "markdown",
      "metadata": {
        "id": "gq84byRWrBy2"
      },
      "source": [
        "---"
      ]
    }
  ],
  "metadata": {
    "kernelspec": {
      "display_name": "Python 3",
      "language": "python",
      "name": "python3"
    },
    "language_info": {
      "codemirror_mode": {
        "name": "ipython",
        "version": 3
      },
      "file_extension": ".py",
      "mimetype": "text/x-python",
      "name": "python",
      "nbconvert_exporter": "python",
      "pygments_lexer": "ipython3",
      "version": "3.9.16"
    },
    "colab": {
      "provenance": []
    }
  },
  "nbformat": 4,
  "nbformat_minor": 0
}