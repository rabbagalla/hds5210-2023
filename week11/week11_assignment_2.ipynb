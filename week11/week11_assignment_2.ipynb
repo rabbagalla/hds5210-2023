{
  "cells": [
    {
      "cell_type": "markdown",
      "metadata": {
        "id": "view-in-github",
        "colab_type": "text"
      },
      "source": [
        "<a href=\"https://colab.research.google.com/github/rabbagalla/hds5210-2023/blob/main/week11/week11_assignment_2.ipynb\" target=\"_parent\"><img src=\"https://colab.research.google.com/assets/colab-badge.svg\" alt=\"Open In Colab\"/></a>"
      ]
    },
    {
      "cell_type": "markdown",
      "metadata": {
        "id": "d3nhZ8xovgDm"
      },
      "source": [
        "# Week 11 Assignment\n",
        "\n",
        "\n",
        "Please do the programming exercise and verify that your code works using the tests, then think about your final project and fill out the questions in the second part.\n",
        "\n",
        "---\n",
        "---"
      ]
    },
    {
      "cell_type": "markdown",
      "metadata": {
        "id": "mnkYUsgxvgDp"
      },
      "source": [
        "### 47.1: Filtering and summarizing data\n",
        "\n",
        "For this work, you'll find a data file in `https://hds5210-data.s3.amazonaws.com/complications_all.csv`.\n",
        "\n",
        "Read in the data file and create a variable called `mo_hospitals` that contains a data frame from the `complications_all.csv` file, filtered down to only contain those hospitals from the state of Missouri (MO).\n",
        "\n",
        "Then aggregate that data by hospital into a variable named `mo_summary`.  There are some key fields that we want to summarize:\n",
        "* We want to know the earliest date that each hospital was participating in any program\n",
        "* We want to know the latest date that each hospital stopped participating in any program\n",
        "* We want to know the total number of patients in the denominators of these programs\n",
        "\n",
        "Some things to note:\n",
        "* You will need to convert the `Start Date` and `End Date` to actual datetime fields\n",
        "* You will need to clean up and convert the `Denominator` field to just be numeric - the rule that you should use it to simply remove any records where the `Denominator` is `'Not Available'`\n",
        "\n",
        "\n",
        "The final result of this step should be a new data frame called `mo_summary` that contains one row for each hospital and contains the min start date, max end date, and total denominator.  Use the names `start_date`, `end_date`, and `number` for those columns in `mo_summary`.\n",
        "\n",
        "\n",
        "You do not need to create your code in the form of a function, just make sure your variable names match what I've described above so the tests work."
      ]
    },
    {
      "cell_type": "code",
      "execution_count": 1,
      "metadata": {
        "id": "x73di5E0vgDq"
      },
      "outputs": [],
      "source": [
        "import pandas as pd\n",
        "# This is just to show you the name to use for the variable you need to create for this step to pass.\n",
        "all_hospitals = pd.read_csv('https://hds5210-data.s3.amazonaws.com/complications_all.csv')\n"
      ]
    },
    {
      "cell_type": "code",
      "execution_count": 2,
      "metadata": {
        "id": "1xFYRc5cvgDr",
        "outputId": "b3be93b9-150c-4c32-93ba-dc8163e9dd1d",
        "colab": {
          "base_uri": "https://localhost:8080/"
        }
      },
      "outputs": [
        {
          "output_type": "stream",
          "name": "stdout",
          "text": [
            "                                    start_date   end_date    number\n",
            "Facility Name                                                      \n",
            "BARNES JEWISH HOSPITAL              2015-04-01 2018-06-30  131313.0\n",
            "BARNES-JEWISH ST PETERS HOSPITAL    2015-04-01 2018-06-30   15668.0\n",
            "BARNES-JEWISH WEST COUNTY HOSPITAL  2015-04-01 2018-06-30    9622.0\n",
            "BATES COUNTY MEMORIAL HOSPITAL      2015-07-01 2018-06-30    3117.0\n",
            "BELTON REGIONAL MEDICAL CENTER      2015-04-01 2018-06-30    9270.0\n",
            "...                                        ...        ...       ...\n",
            "TRUMAN MEDICAL CENTER LAKEWOOD      2015-04-01 2018-06-30    4297.0\n",
            "UNIVERSITY OF MISSOURI HEALTH CARE  2015-04-01 2018-06-30   56493.0\n",
            "WASHINGTON COUNTY MEMORIAL HOSPITAL 2015-07-01 2018-06-30     220.0\n",
            "WESTERN MISSOURI MEDICAL CENTER     2015-04-01 2018-06-30    7254.0\n",
            "WRIGHT MEMORIAL HOSPITAL            2015-07-01 2018-06-30     198.0\n",
            "\n",
            "[108 rows x 3 columns]\n"
          ]
        },
        {
          "output_type": "stream",
          "name": "stderr",
          "text": [
            "<ipython-input-2-9ceff7f6eba5>:23: SettingWithCopyWarning: \n",
            "A value is trying to be set on a copy of a slice from a DataFrame.\n",
            "Try using .loc[row_indexer,col_indexer] = value instead\n",
            "\n",
            "See the caveats in the documentation: https://pandas.pydata.org/pandas-docs/stable/user_guide/indexing.html#returning-a-view-versus-a-copy\n",
            "  mo_hospitals['Start Date'] = pd.to_datetime(mo_hospitals['Start Date'])\n",
            "<ipython-input-2-9ceff7f6eba5>:24: SettingWithCopyWarning: \n",
            "A value is trying to be set on a copy of a slice from a DataFrame.\n",
            "Try using .loc[row_indexer,col_indexer] = value instead\n",
            "\n",
            "See the caveats in the documentation: https://pandas.pydata.org/pandas-docs/stable/user_guide/indexing.html#returning-a-view-versus-a-copy\n",
            "  mo_hospitals['End Date'] = pd.to_datetime(mo_hospitals['End Date'])\n",
            "<ipython-input-2-9ceff7f6eba5>:27: SettingWithCopyWarning: \n",
            "A value is trying to be set on a copy of a slice from a DataFrame.\n",
            "Try using .loc[row_indexer,col_indexer] = value instead\n",
            "\n",
            "See the caveats in the documentation: https://pandas.pydata.org/pandas-docs/stable/user_guide/indexing.html#returning-a-view-versus-a-copy\n",
            "  mo_hospitals['Denominator'] = pd.to_numeric(mo_hospitals['Denominator'], errors='coerce')\n"
          ]
        }
      ],
      "source": [
        "# Do you work here and in as many cells as you need to create a variable called `mo_summary` that matches the requirements\n",
        "\"\"\"Read in hospital complications data, filter to MO, process, and summarize.\n",
        "\n",
        "Reads complications data from a CSV, filters to only Missouri hospitals,\n",
        "converts columns to appropriate datatypes, handles missing values,\n",
        "summarizes by hospital name.\n",
        "\n",
        "Returns:\n",
        "    pd.DataFrame: Summary dataframe mo_Summary with hospital name as index and\n",
        "                    columns for start_date, end_date, and number.\n",
        "\n",
        "\"\"\"\n",
        "#importing pandas\n",
        "import pandas as pd\n",
        "\n",
        "#reading the dataset using pandas\n",
        "complications_all = pd.read_csv('complications_all.csv')\n",
        "\n",
        "#filtering hospitals in MO\n",
        "mo_hospitals = complications_all[complications_all['State'] == 'MO']\n",
        "\n",
        "#converting start date and end datae to date time\n",
        "mo_hospitals['Start Date'] = pd.to_datetime(mo_hospitals['Start Date'])\n",
        "mo_hospitals['End Date'] = pd.to_datetime(mo_hospitals['End Date'])\n",
        "\n",
        "#converting denominator to numeric\n",
        "mo_hospitals['Denominator'] = pd.to_numeric(mo_hospitals['Denominator'], errors='coerce')\n",
        "\n",
        "#removing na values in denominator\n",
        "mo_hospitals = mo_hospitals.dropna(subset=['Denominator'])\n",
        "\n",
        "#creating summary of missouri hospitals and checking their earliest date that each hospital was participating in any program,\n",
        "#latest date that each hospital stopped participating in any program and total number of patients in the denominators of these programs\n",
        "mo_summary = mo_hospitals.groupby('Facility Name').agg(\n",
        "    start_date=('Start Date', 'min'),\n",
        "    end_date=('End Date', 'max'),\n",
        "    number=('Denominator', 'sum')\n",
        ")\n",
        "\n",
        "mo_summary = mo_summary.reset_index()\n",
        "mo_summary.set_index('Facility Name', inplace=True)\n",
        "\n",
        "#printing the results of mo_summary dataframe\n",
        "print(mo_summary)"
      ]
    },
    {
      "cell_type": "code",
      "execution_count": 3,
      "metadata": {
        "id": "-1xi4Ho7vgDr"
      },
      "outputs": [],
      "source": [
        "assert(mo_summary['number'].sum() == 1766908)\n",
        "assert(mo_summary['start_date'].min() == pd.Timestamp(2015,4,1))\n",
        "assert(mo_summary['end_date'].max() == pd.Timestamp(2018,6,30))\n",
        "assert(mo_summary.shape == (108,3))\n",
        "assert(mo_summary.loc['BARNES JEWISH HOSPITAL'].number == 131313)\n",
        "assert(mo_summary.loc['BOONE HOSPITAL CENTER'].number == 63099)"
      ]
    },
    {
      "cell_type": "markdown",
      "metadata": {
        "id": "wbiQz2VkvgDs"
      },
      "source": [
        "---\n",
        "\n",
        "### 47.2 Planning your final project\n",
        "\n",
        "You should be thinking about the things we've been learning and how you can apply them to your final project.  Use the rubric to help guid your thinking and then answer the questions below.  This is meant as a guide to help you think through what you will do."
      ]
    },
    {
      "cell_type": "markdown",
      "metadata": {
        "id": "LBBnkxgwvgDs"
      },
      "source": [
        "#### A) Data Access\n",
        "\n",
        "Your project should include data from at least three distinct types of sources.  For example: AWS S3, Relational Databases, Internet, Web Services, local files.  List what data sources you're planning to use."
      ]
    },
    {
      "cell_type": "markdown",
      "metadata": {
        "id": "wgaqdk-ovgDs"
      },
      "source": [
        "I am planning to use datasets from AWS, Kaggle, NHANES and cdc wonder and other websites.\n"
      ]
    },
    {
      "cell_type": "markdown",
      "metadata": {
        "id": "xBu8g7CDvgDt"
      },
      "source": [
        "#### B. Data Formats\n",
        "\n",
        "Your project should include data that comes in different file formats.  For example: HL7, EDI, HTML, CSV, Excel, JSON, XML.  List what data formats you're planning to use."
      ]
    },
    {
      "cell_type": "markdown",
      "metadata": {
        "id": "ZEsP5lYDvgDt"
      },
      "source": [
        "I am planning to use CSV,XML,Excel files for my project."
      ]
    },
    {
      "cell_type": "markdown",
      "metadata": {
        "id": "4HEwk6aHvgDt"
      },
      "source": [
        "#### C. Objective\n",
        "\n",
        "What purpose would your project serve in a real work setting?  Take a couple of paragraphs to write down why this is an interesting product."
      ]
    },
    {
      "cell_type": "markdown",
      "metadata": {
        "id": "Tq2QMrcQvgDu"
      },
      "source": [
        "This project will analyze medical data to gain new insights into non-alcoholic fatty liver disease (NAFLD). By looking at real patient lab work, scans, and health records, we can find patterns related to NAFLD.\n",
        "\n",
        "Using this project doctors can easily look up the results during patient visits. This will help them make more informed treatment decisions for individual patients. The findings could also shape wider health policies and efforts to address the growing problem of fatty liver disease.\n",
        "\n",
        "Overall, the data-focused approach will provide useful information about NAFLD risk factors, how it progresses, and optimal care. Doctors and policy makers could use these insights to make a real impact on this emerging public health issue. The project combines data analysis methods and large medical data sets to guide better health results for individual patients and communities\n"
      ]
    },
    {
      "cell_type": "markdown",
      "metadata": {
        "id": "0E3YwvI6vgDu"
      },
      "source": [
        "\n",
        "\n",
        "---\n",
        "\n",
        "\n",
        "\n",
        "## Submit your work via GitHub as normal\n"
      ]
    }
  ],
  "metadata": {
    "kernelspec": {
      "display_name": "Python 3",
      "language": "python",
      "name": "python3"
    },
    "language_info": {
      "codemirror_mode": {
        "name": "ipython",
        "version": 3
      },
      "file_extension": ".py",
      "mimetype": "text/x-python",
      "name": "python",
      "nbconvert_exporter": "python",
      "pygments_lexer": "ipython3",
      "version": "3.9.16"
    },
    "colab": {
      "provenance": [],
      "include_colab_link": true
    }
  },
  "nbformat": 4,
  "nbformat_minor": 0
}