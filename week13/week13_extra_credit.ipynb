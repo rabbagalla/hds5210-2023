{
  "cells": [
    {
      "cell_type": "markdown",
      "metadata": {
        "id": "-P4aXmyzUQBA"
      },
      "source": [
        "# Week 13 Extra Credit - How will ChatGPT do on your final project idea?\n",
        "\n",
        "This extra credit assignment is entirely optional.  You do not need to do it.\n",
        "\n",
        "If you would like the opportunity to earn up to 5 extra credit points, complete this assignment and submit it via GitHub as normal before Monday, November 27 at 11:59 PM CST.  No late submissions will be accepted.  The file must be saved to your week13 folder in GitHub."
      ]
    },
    {
      "cell_type": "markdown",
      "metadata": {
        "id": "UX9Bo860UQBD"
      },
      "source": [
        "## Part 1: Have a conversation with ChatGPT\n",
        "\n",
        "I want you to have a conversation with ChatGPT about your final project idea.  Find out what it thinks about your idea and if it has any data sources (URLs for specific sites) that could be helpful.  Below, either include copy/paste the chat history from your conversation or include a link to the shared chat.  (ChatGPT has an [option to share a link to a specific conversation](https://help.openai.com/en/articles/7925741-chatgpt-shared-links-faq).  It's the up-arrow icon in the upper-right corner of your chat window.)\n",
        "\n",
        "Take this conversationw with ChatGPT as far as you want, but at least ask three or four follow-up questions to refine the information you're getting back.\n",
        "\n",
        "If it starts giving you links to information, don't assume they're going to work. Remember that ChatGPT isn't perfect. So, follow the links and make sure there's information there that matches what ChatGPT says you will find."
      ]
    },
    {
      "cell_type": "markdown",
      "metadata": {
        "id": "RNiACT6FUQBE"
      },
      "source": [
        "https://chat.openai.com/share/5af94d57-b37d-4c72-97ae-edac42f64219"
      ]
    },
    {
      "cell_type": "markdown",
      "metadata": {
        "id": "danYSOPYUQBE"
      },
      "source": [
        "### Part 2: Your reflection\n",
        "\n",
        "Below, tell me what you think ChatGPT did well or not well in your conversation.  Was it good at finding data that you needed?  Was it good at finding actual links that worked?  Did its responses make sense to you?  What did it do well / not well?\n",
        "\n",
        "Your response below should be several sentences.  If you don't have enough feedback, expand your conversation with ChatGPT.  Ask it refine your project idea or start writing code for you.  See what it can do."
      ]
    },
    {
      "cell_type": "markdown",
      "metadata": {
        "id": "dhJDrx-4UQBE"
      },
      "source": [
        "By looking at answers from Chatgpt I understood that I can use the dataset for Data Cleaning, Visualization,Gender Distribution  analysis and also perform Statistical analysis.I can also build predictive model analysis using the data.Chatgpt gave a quick idea of what I can do using the dataset and also what all will be possible using it.\n",
        "ChatGPT excelled in generating Python code snippets for data analysis tasks, including descriptive statistics, survival analysis, and visualization. Its responses were coherent and informative, providing clear explanations. While it couldn't provide actual internet links, it effectively understood and addressed user queries, offering valuable suggestions and code examples for dataset exploration and analysis.\n",
        "ChatGPT exhibited a solid understanding of the intricacies within the user's dataset inquiries. It provided valuable perspectives on potential analysis approaches and underscored the significance of addressing biases and delving into nuanced survival analysis concepts.\n",
        "\n",
        "\n",
        "\n"
      ]
    },
    {
      "cell_type": "markdown",
      "metadata": {
        "id": "K4gQbuVFUQBE"
      },
      "source": [
        "### Submitting\n",
        "\n",
        "Submit this as normal to GitHub with the name `wee13/week13_extra_credit.ipynb`"
      ]
    },
    {
      "cell_type": "markdown",
      "metadata": {
        "id": "18FyUZ-3UQBF"
      },
      "source": []
    }
  ],
  "metadata": {
    "language_info": {
      "name": "python"
    },
    "colab": {
      "provenance": []
    }
  },
  "nbformat": 4,
  "nbformat_minor": 0
}