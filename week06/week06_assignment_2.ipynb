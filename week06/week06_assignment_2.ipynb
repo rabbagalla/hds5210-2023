{
  "cells": [
    {
      "cell_type": "markdown",
      "metadata": {
        "id": "view-in-github",
        "colab_type": "text"
      },
      "source": [
        "<a href=\"https://colab.research.google.com/github/rabbagalla/hds5210-2023/blob/main/week06/week06_assignment_2.ipynb\" target=\"_parent\"><img src=\"https://colab.research.google.com/assets/colab-badge.svg\" alt=\"Open In Colab\"/></a>"
      ]
    },
    {
      "cell_type": "markdown",
      "metadata": {
        "nbgrader": {
          "grade": false,
          "grade_id": "intro",
          "locked": true,
          "schema_version": 1,
          "solution": false
        },
        "id": "3L3z7ilu_jbD"
      },
      "source": [
        "# Week 6 Exercises\n",
        "\n",
        "_McKinney 6.1_\n",
        "\n",
        "There are multiple ways to solve the problems below.  You can use any one of several approaches.  For example, you can read CSV files using Pandas or the csv module.  Your score won't depend on which modules you choose to use unless explicitly noted below, but your programming style will still matter."
      ]
    },
    {
      "cell_type": "markdown",
      "metadata": {
        "nbgrader": {
          "grade": false,
          "grade_id": "q1-description",
          "locked": true,
          "schema_version": 1,
          "solution": false
        },
        "id": "Gw2hzd7f_jbI"
      },
      "source": [
        "### 30.1 List of Allergies\n",
        "\n",
        "In this GitHub repository, there is a file called `allergies.json` that contains a list of patient allergies.  You will need to download this [file from here](https://raw.githubusercontent.com/paulboal/hds5210-2023/main/week06/allergies.json) and then upload it into Google Colab to run these examples. It is taken from sample data provided by the EHR vendor, Epic, here: https://open.epic.com/Clinical/Allergy\n",
        "\n",
        "Take some time to look at the structure of the file.  You can open it directly in Jupyter by clicking the _Home_ icon, then the _from_instructor_ folder, and then the _data_ folder.\n",
        "\n",
        "Within the file, you'll see that it is a dictionary with many items in it.  One of those items is called `entry` and that item is a list of things.  You can tell that because the item name is immediately followed by an opening square bracket, signifying the start of a list.  It's line 11 of the file: `  \"entry\": [`\n",
        "\n",
        "Write a function named `allergy_count(json_file)` that takes as one parameter the name of the JSON file and returns an integer number of entries in that file.  Your function should open the file, read the json into a Python object, and return how many items there are in the list of `entry`s."
      ]
    },
    {
      "cell_type": "code",
      "execution_count": 160,
      "metadata": {
        "id": "lkJB-25V_jbI"
      },
      "outputs": [],
      "source": [
        "import json\n",
        "ALLERGIES_FILE=\"allergies.json\""
      ]
    },
    {
      "cell_type": "code",
      "execution_count": 161,
      "metadata": {
        "nbgrader": {
          "grade": false,
          "grade_id": "q1-answer",
          "locked": false,
          "schema_version": 1,
          "solution": true
        },
        "id": "dI0Xl8Ai_jbJ"
      },
      "outputs": [],
      "source": [
        "def allergy_count(json_file):\n",
        "    allergies = json.load(open(json_file))\n",
        "    return len(allergies['entry'])"
      ]
    },
    {
      "cell_type": "code",
      "execution_count": 162,
      "metadata": {
        "id": "r9KZo7HH_jbK",
        "outputId": "816dda51-681f-45d9-a2cb-421394a6d161",
        "colab": {
          "base_uri": "https://localhost:8080/"
        }
      },
      "outputs": [
        {
          "output_type": "execute_result",
          "data": {
            "text/plain": [
              "4"
            ]
          },
          "metadata": {},
          "execution_count": 162
        }
      ],
      "source": [
        "allergy_count(ALLERGIES_FILE)"
      ]
    },
    {
      "cell_type": "code",
      "execution_count": 163,
      "metadata": {
        "nbgrader": {
          "grade": true,
          "grade_id": "q1-tests",
          "locked": true,
          "points": 5,
          "schema_version": 1,
          "solution": false
        },
        "id": "bRZNG9bx_jbK"
      },
      "outputs": [],
      "source": [
        "assert type(allergy_count(ALLERGIES_FILE)) == int\n",
        "assert allergy_count(ALLERGIES_FILE) == 4"
      ]
    },
    {
      "cell_type": "markdown",
      "metadata": {
        "id": "CzycD2YR_jbK"
      },
      "source": [
        "### 30.2 Number of Patients\n",
        "\n",
        "If you dig a little bit deaper into this list of allergies, you'll see that each result has a patient associated with it.  Create a funcation called `patient_count(json_file)` that will count how many unique patients we have in this JSON structure.  "
      ]
    },
    {
      "cell_type": "code",
      "execution_count": 164,
      "metadata": {
        "id": "9LMcGjUD_jbK"
      },
      "outputs": [],
      "source": [
        "def patient_count(json_file):\n",
        "    with open(json_file, 'r') as file:\n",
        "        data = json.load(file)\n",
        "        patients = set(entry['resource']['patient']['display'] for entry in data['entry'])\n",
        "        return len(patients)"
      ]
    },
    {
      "cell_type": "code",
      "execution_count": 165,
      "metadata": {
        "id": "2FJePqZF_jbL",
        "outputId": "00682e98-2357-4222-fd99-db2fa9b22a34",
        "colab": {
          "base_uri": "https://localhost:8080/"
        }
      },
      "outputs": [
        {
          "output_type": "execute_result",
          "data": {
            "text/plain": [
              "2"
            ]
          },
          "metadata": {},
          "execution_count": 165
        }
      ],
      "source": [
        "patient_count(ALLERGIES_FILE)"
      ]
    },
    {
      "cell_type": "code",
      "execution_count": 166,
      "metadata": {
        "id": "DZRXZUmn_jbL"
      },
      "outputs": [],
      "source": [
        "assert type(patient_count(ALLERGIES_FILE)) == int\n",
        "assert patient_count(ALLERGIES_FILE) == 2"
      ]
    },
    {
      "cell_type": "markdown",
      "metadata": {
        "id": "JNiRgvm1_jbL"
      },
      "source": [
        "### 30.3 How Many Allergies per Patient\n",
        "\n",
        "Although each entry is a separate allergy, several of them are for the same patient.  Write a function called `allergy_per_patient(json_file)` that counts up how many allergies each patient has.\n"
      ]
    },
    {
      "cell_type": "code",
      "execution_count": 206,
      "metadata": {
        "id": "FX893SAo_jbL"
      },
      "outputs": [],
      "source": [
        "def allergies_and_reactions_for_patient(json_file, patient):\n",
        "    allergy_data = allergy_list(json_file)\n",
        "\n",
        "    allergies_and_reactions = [(entry[0], entry[1], entry[2]) for entry in allergy_data if entry[0] == patient]\n",
        "\n",
        "    return allergies_and_reactions"
      ]
    },
    {
      "cell_type": "code",
      "execution_count": 207,
      "metadata": {
        "id": "dANPRkKk_jbM",
        "outputId": "8cc386d1-e976-4477-9325-e8b67f8b728e",
        "colab": {
          "base_uri": "https://localhost:8080/"
        }
      },
      "outputs": [
        {
          "output_type": "execute_result",
          "data": {
            "text/plain": [
              "{'Paul Boal': 1, 'Jason Argonaut': 3}"
            ]
          },
          "metadata": {},
          "execution_count": 207
        }
      ],
      "source": [
        "allergy_per_patient(ALLERGIES_FILE)"
      ]
    },
    {
      "cell_type": "code",
      "execution_count": 208,
      "metadata": {
        "id": "dxmKJNp6_jbM"
      },
      "outputs": [],
      "source": [
        "assert type(allergy_per_patient(ALLERGIES_FILE)) == dict\n",
        "assert allergy_per_patient(ALLERGIES_FILE) == {'Paul Boal': 1, 'Jason Argonaut': 3}"
      ]
    },
    {
      "cell_type": "markdown",
      "metadata": {
        "nbgrader": {
          "grade": false,
          "grade_id": "q2-question",
          "locked": true,
          "schema_version": 1,
          "solution": false
        },
        "id": "3gamYpmw_jbM"
      },
      "source": [
        "### 30.4 Patient Allergies and Reaction\n",
        "\n",
        "You'll see in the file that each of the items in the `entry` list have several other attributes including a patient name, substance text representation, and a reaction manifestation.  Create a function named `allergy_list(json_file)` that will create an output list that has patient name, allergy, and reaction for each `entry`.  The actual result you should get will be:\n",
        "\n",
        "```python\n",
        "[['Jason Argonaut', 'PENICILLIN G', 'Hives'],\n",
        " ['Paul Boal', 'PENICILLIN G', 'Bruising'],\n",
        " ['Jason Argonaut', 'SHELLFISH-DERIVED PRODUCTS', 'Itching'],\n",
        " ['Jason Argonaut', 'STRAWBERRY', 'Anaphylaxis']]\n",
        "```\n",
        "\n",
        "You'll notice that the reaction and the manifestation of that action are lists.  You only need to capture the first reaction and the first manifestation of the action.  That is, if there is a list of things, just output the first one."
      ]
    },
    {
      "cell_type": "code",
      "execution_count": 209,
      "metadata": {
        "nbgrader": {
          "grade": false,
          "grade_id": "q2-answer",
          "locked": false,
          "schema_version": 1,
          "solution": true
        },
        "id": "CG5A6Xit_jbM"
      },
      "outputs": [],
      "source": [
        "def allergy_reaction(json_file, patient, substance):\n",
        "  allergy_data = allergy_list(json_file)\n",
        "\n",
        "  reaction = None\n",
        "  for i in allergy_data:\n",
        "    patient_name, substance_name, reaction_name = i\n",
        "\n",
        "    if patient_name == patient and substance_name == substance:\n",
        "      reaction = reaction_name\n",
        "\n",
        "  return reaction"
      ]
    },
    {
      "cell_type": "code",
      "execution_count": 210,
      "metadata": {
        "id": "yInNul1Z_jbM",
        "outputId": "f4aa7995-a737-46a2-dfdd-2ec58f55f708",
        "colab": {
          "base_uri": "https://localhost:8080/"
        }
      },
      "outputs": [
        {
          "output_type": "execute_result",
          "data": {
            "text/plain": [
              "[['Jason Argonaut', 'PENICILLIN G', 'Hives'],\n",
              " ['Jason Argonaut', 'SHELLFISH-DERIVED PRODUCTS', 'Itching'],\n",
              " ['Jason Argonaut', 'STRAWBERRY', 'Anaphylaxis'],\n",
              " ['Paul Boal', 'PENICILLIN G', 'Bruising']]"
            ]
          },
          "metadata": {},
          "execution_count": 210
        }
      ],
      "source": [
        "allergy_list(ALLERGIES_FILE)"
      ]
    },
    {
      "cell_type": "code",
      "execution_count": 211,
      "metadata": {
        "nbgrader": {
          "grade": true,
          "grade_id": "q2-tests",
          "locked": true,
          "points": 10,
          "schema_version": 1,
          "solution": false
        },
        "id": "dMjJWZCb_jbM"
      },
      "outputs": [],
      "source": [
        "assert allergy_list(ALLERGIES_FILE) == [['Jason Argonaut', 'PENICILLIN G', 'Hives'],\n",
        " ['Jason Argonaut', 'SHELLFISH-DERIVED PRODUCTS', 'Itching'],\n",
        " ['Jason Argonaut', 'STRAWBERRY', 'Anaphylaxis'],\n",
        " ['Paul Boal', 'PENICILLIN G', 'Bruising']]\n"
      ]
    },
    {
      "cell_type": "markdown",
      "metadata": {
        "nbgrader": {
          "grade": false,
          "grade_id": "q3-question",
          "locked": true,
          "schema_version": 1,
          "solution": false
        },
        "id": "gnlyHypu_jbN"
      },
      "source": [
        "### 30.5 Allergy Reaction\n",
        "\n",
        "Write a function called `allergy_reaction(json_file,patient,substance)` that takes three parameter and returns the reaction that will happen if the patient takes the specified substance.  You can solve this, in part, by calling your `allergy_list` function inside your new `allergy_reaction` function.\n",
        "\n",
        "If the substance is not found in the allergy list, the function should return None."
      ]
    },
    {
      "cell_type": "code",
      "execution_count": 212,
      "metadata": {
        "nbgrader": {
          "grade": false,
          "grade_id": "q3-answer",
          "locked": false,
          "schema_version": 1,
          "solution": true
        },
        "id": "EviCGpuN_jbN"
      },
      "outputs": [],
      "source": [
        "def allergy_reaction(json_file, patient, substance):\n",
        "    allergy_data = allergy_list(json_file)\n",
        "\n",
        "    for entry in allergy_data:\n",
        "        patient_name, substance_name, reaction_name = entry\n",
        "\n",
        "        if patient_name == patient and substance_name == substance:\n",
        "            return reaction_name\n",
        "\n",
        "    return None"
      ]
    },
    {
      "cell_type": "code",
      "execution_count": 213,
      "metadata": {
        "id": "sxYNQbKV_jbN",
        "outputId": "4d5c001a-dc8c-4f8e-fa2a-64d96935ee3e",
        "colab": {
          "base_uri": "https://localhost:8080/",
          "height": 35
        }
      },
      "outputs": [
        {
          "output_type": "execute_result",
          "data": {
            "text/plain": [
              "'Hives'"
            ],
            "application/vnd.google.colaboratory.intrinsic+json": {
              "type": "string"
            }
          },
          "metadata": {},
          "execution_count": 213
        }
      ],
      "source": [
        "allergy_reaction(ALLERGIES_FILE, 'Jason Argonaut', 'PENICILLIN G')"
      ]
    },
    {
      "cell_type": "code",
      "execution_count": 214,
      "metadata": {
        "nbgrader": {
          "grade": true,
          "grade_id": "q3-tests",
          "locked": true,
          "points": 5,
          "schema_version": 1,
          "solution": false
        },
        "id": "Zo7vau3K_jbN"
      },
      "outputs": [],
      "source": [
        "assert allergy_reaction(ALLERGIES_FILE, 'Jason Argonaut', 'PENICILLIN G') == 'Hives'\n",
        "assert allergy_reaction(ALLERGIES_FILE, 'Jason Argonaut', 'SHELLFISH-DERIVED PRODUCTS') == 'Itching'\n",
        "assert allergy_reaction(ALLERGIES_FILE, 'Jason Argonaut', 'STRAWBERRY') == 'Anaphylaxis'\n",
        "assert allergy_reaction(ALLERGIES_FILE, 'Jason Argonaut', 'PENICILLIN') == None\n",
        "assert allergy_reaction(ALLERGIES_FILE, 'Paul Boal', 'PENICILLIN G') == 'Bruising'"
      ]
    },
    {
      "cell_type": "markdown",
      "metadata": {
        "id": "ih2YPY9C_jbN"
      },
      "source": [
        "---\n",
        "\n",
        "## Check your work above\n",
        "\n",
        "If you didn't get them all correct, take a few minutes to think through those that aren't correct.\n",
        "\n",
        "\n",
        "## Submitting Your Work\n",
        "\n",
        "In order to submit your work, you'll need to save this notebook file back to GitHub.  To do that in Google Colab:\n",
        "1. File -> Save a Copy in GitHub\n",
        "2. Make sure your HDS5210 repository is selected\n",
        "3. Make sure the file name includes the week number like this: `week06/week06_assignment_2.ipynb`\n",
        "4. Add a commit message that means something\n",
        "\n",
        "**Be sure week names are lowercase and use a two digit week number!!**\n",
        "\n",
        "**Be sure you use the same file name provided by the instructor!!**\n",
        "\n"
      ]
    }
  ],
  "metadata": {
    "celltoolbar": "Create Assignment",
    "kernelspec": {
      "display_name": "Python 3",
      "language": "python",
      "name": "python3"
    },
    "language_info": {
      "codemirror_mode": {
        "name": "ipython",
        "version": 3
      },
      "file_extension": ".py",
      "mimetype": "text/x-python",
      "name": "python",
      "nbconvert_exporter": "python",
      "pygments_lexer": "ipython3",
      "version": "3.9.16"
    },
    "colab": {
      "provenance": [],
      "include_colab_link": true
    }
  },
  "nbformat": 4,
  "nbformat_minor": 0
}